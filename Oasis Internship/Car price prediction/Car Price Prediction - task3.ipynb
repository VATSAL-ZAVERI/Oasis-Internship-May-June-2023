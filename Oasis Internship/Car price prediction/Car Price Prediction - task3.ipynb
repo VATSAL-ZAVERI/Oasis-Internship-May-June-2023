{
 "cells": [
  {
   "cell_type": "markdown",
   "id": "2d19744c",
   "metadata": {},
   "source": [
    "##  Oasis Internship task 3 by Vatsal Zaveri"
   ]
  },
  {
   "cell_type": "markdown",
   "id": "f7606067",
   "metadata": {},
   "source": [
    "# Car Price Prediction"
   ]
  },
  {
   "cell_type": "code",
   "execution_count": 1,
   "id": "afe5d8b4",
   "metadata": {},
   "outputs": [],
   "source": [
    "#importing necessary modules\n",
    "import pandas as pd\n",
    "import seaborn as sns\n",
    "import numpy as np\n",
    "import matplotlib.pyplot as plt "
   ]
  },
  {
   "cell_type": "code",
   "execution_count": 2,
   "id": "12c9204d",
   "metadata": {},
   "outputs": [
    {
     "data": {
      "text/html": [
       "<div>\n",
       "<style scoped>\n",
       "    .dataframe tbody tr th:only-of-type {\n",
       "        vertical-align: middle;\n",
       "    }\n",
       "\n",
       "    .dataframe tbody tr th {\n",
       "        vertical-align: top;\n",
       "    }\n",
       "\n",
       "    .dataframe thead th {\n",
       "        text-align: right;\n",
       "    }\n",
       "</style>\n",
       "<table border=\"1\" class=\"dataframe\">\n",
       "  <thead>\n",
       "    <tr style=\"text-align: right;\">\n",
       "      <th></th>\n",
       "      <th>car_ID</th>\n",
       "      <th>symboling</th>\n",
       "      <th>CarName</th>\n",
       "      <th>fueltype</th>\n",
       "      <th>aspiration</th>\n",
       "      <th>doornumber</th>\n",
       "      <th>carbody</th>\n",
       "      <th>drivewheel</th>\n",
       "      <th>enginelocation</th>\n",
       "      <th>wheelbase</th>\n",
       "      <th>...</th>\n",
       "      <th>enginesize</th>\n",
       "      <th>fuelsystem</th>\n",
       "      <th>boreratio</th>\n",
       "      <th>stroke</th>\n",
       "      <th>compressionratio</th>\n",
       "      <th>horsepower</th>\n",
       "      <th>peakrpm</th>\n",
       "      <th>citympg</th>\n",
       "      <th>highwaympg</th>\n",
       "      <th>price</th>\n",
       "    </tr>\n",
       "  </thead>\n",
       "  <tbody>\n",
       "    <tr>\n",
       "      <th>0</th>\n",
       "      <td>1</td>\n",
       "      <td>3</td>\n",
       "      <td>alfa-romero giulia</td>\n",
       "      <td>gas</td>\n",
       "      <td>std</td>\n",
       "      <td>two</td>\n",
       "      <td>convertible</td>\n",
       "      <td>rwd</td>\n",
       "      <td>front</td>\n",
       "      <td>88.6</td>\n",
       "      <td>...</td>\n",
       "      <td>130</td>\n",
       "      <td>mpfi</td>\n",
       "      <td>3.47</td>\n",
       "      <td>2.68</td>\n",
       "      <td>9.0</td>\n",
       "      <td>111</td>\n",
       "      <td>5000</td>\n",
       "      <td>21</td>\n",
       "      <td>27</td>\n",
       "      <td>13495.0</td>\n",
       "    </tr>\n",
       "    <tr>\n",
       "      <th>1</th>\n",
       "      <td>2</td>\n",
       "      <td>3</td>\n",
       "      <td>alfa-romero stelvio</td>\n",
       "      <td>gas</td>\n",
       "      <td>std</td>\n",
       "      <td>two</td>\n",
       "      <td>convertible</td>\n",
       "      <td>rwd</td>\n",
       "      <td>front</td>\n",
       "      <td>88.6</td>\n",
       "      <td>...</td>\n",
       "      <td>130</td>\n",
       "      <td>mpfi</td>\n",
       "      <td>3.47</td>\n",
       "      <td>2.68</td>\n",
       "      <td>9.0</td>\n",
       "      <td>111</td>\n",
       "      <td>5000</td>\n",
       "      <td>21</td>\n",
       "      <td>27</td>\n",
       "      <td>16500.0</td>\n",
       "    </tr>\n",
       "    <tr>\n",
       "      <th>2</th>\n",
       "      <td>3</td>\n",
       "      <td>1</td>\n",
       "      <td>alfa-romero Quadrifoglio</td>\n",
       "      <td>gas</td>\n",
       "      <td>std</td>\n",
       "      <td>two</td>\n",
       "      <td>hatchback</td>\n",
       "      <td>rwd</td>\n",
       "      <td>front</td>\n",
       "      <td>94.5</td>\n",
       "      <td>...</td>\n",
       "      <td>152</td>\n",
       "      <td>mpfi</td>\n",
       "      <td>2.68</td>\n",
       "      <td>3.47</td>\n",
       "      <td>9.0</td>\n",
       "      <td>154</td>\n",
       "      <td>5000</td>\n",
       "      <td>19</td>\n",
       "      <td>26</td>\n",
       "      <td>16500.0</td>\n",
       "    </tr>\n",
       "    <tr>\n",
       "      <th>3</th>\n",
       "      <td>4</td>\n",
       "      <td>2</td>\n",
       "      <td>audi 100 ls</td>\n",
       "      <td>gas</td>\n",
       "      <td>std</td>\n",
       "      <td>four</td>\n",
       "      <td>sedan</td>\n",
       "      <td>fwd</td>\n",
       "      <td>front</td>\n",
       "      <td>99.8</td>\n",
       "      <td>...</td>\n",
       "      <td>109</td>\n",
       "      <td>mpfi</td>\n",
       "      <td>3.19</td>\n",
       "      <td>3.40</td>\n",
       "      <td>10.0</td>\n",
       "      <td>102</td>\n",
       "      <td>5500</td>\n",
       "      <td>24</td>\n",
       "      <td>30</td>\n",
       "      <td>13950.0</td>\n",
       "    </tr>\n",
       "    <tr>\n",
       "      <th>4</th>\n",
       "      <td>5</td>\n",
       "      <td>2</td>\n",
       "      <td>audi 100ls</td>\n",
       "      <td>gas</td>\n",
       "      <td>std</td>\n",
       "      <td>four</td>\n",
       "      <td>sedan</td>\n",
       "      <td>4wd</td>\n",
       "      <td>front</td>\n",
       "      <td>99.4</td>\n",
       "      <td>...</td>\n",
       "      <td>136</td>\n",
       "      <td>mpfi</td>\n",
       "      <td>3.19</td>\n",
       "      <td>3.40</td>\n",
       "      <td>8.0</td>\n",
       "      <td>115</td>\n",
       "      <td>5500</td>\n",
       "      <td>18</td>\n",
       "      <td>22</td>\n",
       "      <td>17450.0</td>\n",
       "    </tr>\n",
       "  </tbody>\n",
       "</table>\n",
       "<p>5 rows × 26 columns</p>\n",
       "</div>"
      ],
      "text/plain": [
       "   car_ID  symboling                   CarName fueltype aspiration doornumber  \\\n",
       "0       1          3        alfa-romero giulia      gas        std        two   \n",
       "1       2          3       alfa-romero stelvio      gas        std        two   \n",
       "2       3          1  alfa-romero Quadrifoglio      gas        std        two   \n",
       "3       4          2               audi 100 ls      gas        std       four   \n",
       "4       5          2                audi 100ls      gas        std       four   \n",
       "\n",
       "       carbody drivewheel enginelocation  wheelbase  ...  enginesize  \\\n",
       "0  convertible        rwd          front       88.6  ...         130   \n",
       "1  convertible        rwd          front       88.6  ...         130   \n",
       "2    hatchback        rwd          front       94.5  ...         152   \n",
       "3        sedan        fwd          front       99.8  ...         109   \n",
       "4        sedan        4wd          front       99.4  ...         136   \n",
       "\n",
       "   fuelsystem  boreratio  stroke compressionratio horsepower  peakrpm citympg  \\\n",
       "0        mpfi       3.47    2.68              9.0        111     5000      21   \n",
       "1        mpfi       3.47    2.68              9.0        111     5000      21   \n",
       "2        mpfi       2.68    3.47              9.0        154     5000      19   \n",
       "3        mpfi       3.19    3.40             10.0        102     5500      24   \n",
       "4        mpfi       3.19    3.40              8.0        115     5500      18   \n",
       "\n",
       "   highwaympg    price  \n",
       "0          27  13495.0  \n",
       "1          27  16500.0  \n",
       "2          26  16500.0  \n",
       "3          30  13950.0  \n",
       "4          22  17450.0  \n",
       "\n",
       "[5 rows x 26 columns]"
      ]
     },
     "execution_count": 2,
     "metadata": {},
     "output_type": "execute_result"
    }
   ],
   "source": [
    "#reading the dataset\n",
    "df = pd.read_csv('CarPrice.csv')\n",
    "df.head()"
   ]
  },
  {
   "cell_type": "code",
   "execution_count": 3,
   "id": "13e0f24c",
   "metadata": {},
   "outputs": [
    {
     "data": {
      "text/plain": [
       "0      13495.0\n",
       "1      16500.0\n",
       "2      16500.0\n",
       "3      13950.0\n",
       "4      17450.0\n",
       "        ...   \n",
       "200    16845.0\n",
       "201    19045.0\n",
       "202    21485.0\n",
       "203    22470.0\n",
       "204    22625.0\n",
       "Name: price, Length: 205, dtype: float64"
      ]
     },
     "execution_count": 3,
     "metadata": {},
     "output_type": "execute_result"
    }
   ],
   "source": [
    "#defining the output\n",
    "y = df['price']\n",
    "y"
   ]
  },
  {
   "cell_type": "code",
   "execution_count": 4,
   "id": "012cc879",
   "metadata": {},
   "outputs": [],
   "source": [
    "#dropping the output from the training data\n",
    "x =df.drop(columns = 'price')"
   ]
  },
  {
   "cell_type": "markdown",
   "id": "0c244671",
   "metadata": {},
   "source": [
    "##### The below plot shows a Scatter plot of the Horsepower of various cars"
   ]
  },
  {
   "cell_type": "code",
   "execution_count": 5,
   "id": "5bb5d791",
   "metadata": {},
   "outputs": [
    {
     "data": {
      "text/plain": [
       "<matplotlib.collections.PathCollection at 0x2b94739b1c0>"
      ]
     },
     "execution_count": 5,
     "metadata": {},
     "output_type": "execute_result"
    },
    {
     "data": {
      "image/png": "[encoded data removed]",
      "text/plain": [
       "<Figure size 432x288 with 1 Axes>"
      ]
     },
     "metadata": {
      "needs_background": "light"
     },
     "output_type": "display_data"
    }
   ],
   "source": [
    "plt.scatter(df['horsepower'],y,color='r', marker = '*')"
   ]
  },
  {
   "cell_type": "markdown",
   "id": "96e88813",
   "metadata": {},
   "source": [
    "##### checking for null values in the dataset"
   ]
  },
  {
   "cell_type": "code",
   "execution_count": 6,
   "id": "542724e9",
   "metadata": {},
   "outputs": [
    {
     "data": {
      "text/plain": [
       "car_ID              0\n",
       "symboling           0\n",
       "CarName             0\n",
       "fueltype            0\n",
       "aspiration          0\n",
       "doornumber          0\n",
       "carbody             0\n",
       "drivewheel          0\n",
       "enginelocation      0\n",
       "wheelbase           0\n",
       "carlength           0\n",
       "carwidth            0\n",
       "carheight           0\n",
       "curbweight          0\n",
       "enginetype          0\n",
       "cylindernumber      0\n",
       "enginesize          0\n",
       "fuelsystem          0\n",
       "boreratio           0\n",
       "stroke              0\n",
       "compressionratio    0\n",
       "horsepower          0\n",
       "peakrpm             0\n",
       "citympg             0\n",
       "highwaympg          0\n",
       "dtype: int64"
      ]
     },
     "execution_count": 6,
     "metadata": {},
     "output_type": "execute_result"
    }
   ],
   "source": [
    "x.isnull().sum()"
   ]
  },
  {
   "cell_type": "markdown",
   "id": "2d0f705a",
   "metadata": {},
   "source": [
    "##### plotting a displot to observe the distribution of  column cylindernumber"
   ]
  },
  {
   "cell_type": "code",
   "execution_count": 7,
   "id": "1b5d9da9",
   "metadata": {},
   "outputs": [
    {
     "data": {
      "text/plain": [
       "<seaborn.axisgrid.FacetGrid at 0x2b9474666a0>"
      ]
     },
     "execution_count": 7,
     "metadata": {},
     "output_type": "execute_result"
    },
    {
     "data": {
      "image/png": "[encoded data removed]",
      "text/plain": [
       "<Figure size 360x360 with 1 Axes>"
      ]
     },
     "metadata": {
      "needs_background": "light"
     },
     "output_type": "display_data"
    }
   ],
   "source": [
    "sns.displot(x = df['cylindernumber'], bins = 10, kde = True)"
   ]
  },
  {
   "cell_type": "markdown",
   "id": "97151c27",
   "metadata": {},
   "source": [
    "#### Checking for the value counts for each columns. This gives a more clear idea about the data. "
   ]
  },
  {
   "cell_type": "code",
   "execution_count": 8,
   "id": "1375f391",
   "metadata": {},
   "outputs": [
    {
     "data": {
      "text/plain": [
       "four    115\n",
       "two      90\n",
       "Name: doornumber, dtype: int64"
      ]
     },
     "execution_count": 8,
     "metadata": {},
     "output_type": "execute_result"
    }
   ],
   "source": [
    "x['doornumber'].value_counts()"
   ]
  },
  {
   "cell_type": "code",
   "execution_count": 9,
   "id": "d776a29c",
   "metadata": {},
   "outputs": [
    {
     "data": {
      "text/plain": [
       "gas       185\n",
       "diesel     20\n",
       "Name: fueltype, dtype: int64"
      ]
     },
     "execution_count": 9,
     "metadata": {},
     "output_type": "execute_result"
    }
   ],
   "source": [
    "x['fueltype'].value_counts()"
   ]
  },
  {
   "cell_type": "code",
   "execution_count": 10,
   "id": "d2f7ee94",
   "metadata": {},
   "outputs": [
    {
     "data": {
      "text/plain": [
       "std      168\n",
       "turbo     37\n",
       "Name: aspiration, dtype: int64"
      ]
     },
     "execution_count": 10,
     "metadata": {},
     "output_type": "execute_result"
    }
   ],
   "source": [
    "x['aspiration'].value_counts()"
   ]
  },
  {
   "cell_type": "markdown",
   "id": "8c589dd6",
   "metadata": {},
   "source": [
    "##### A pie chart illustrating the distribution of car bodies by count across various types."
   ]
  },
  {
   "cell_type": "code",
   "execution_count": 11,
   "id": "a536f3a2",
   "metadata": {},
   "outputs": [
    {
     "data": {
      "text/plain": [
       "<AxesSubplot:ylabel='carbody'>"
      ]
     },
     "execution_count": 11,
     "metadata": {},
     "output_type": "execute_result"
    },
    {
     "data": {
      "image/png": "[encoded data removed]",
      "text/plain": [
       "<Figure size 432x288 with 1 Axes>"
      ]
     },
     "metadata": {},
     "output_type": "display_data"
    }
   ],
   "source": [
    "x['carbody'].value_counts().plot(kind = 'pie')"
   ]
  },
  {
   "cell_type": "code",
   "execution_count": 12,
   "id": "40419ee3",
   "metadata": {},
   "outputs": [
    {
     "data": {
      "text/plain": [
       "fwd    120\n",
       "rwd     76\n",
       "4wd      9\n",
       "Name: drivewheel, dtype: int64"
      ]
     },
     "execution_count": 12,
     "metadata": {},
     "output_type": "execute_result"
    }
   ],
   "source": [
    "x['drivewheel'].value_counts()"
   ]
  },
  {
   "cell_type": "markdown",
   "id": "dd1d82b9",
   "metadata": {},
   "source": [
    "##### Mapping the values in the columns to numbers so as to achieve better accuracy in the results"
   ]
  },
  {
   "cell_type": "code",
   "execution_count": 13,
   "id": "b811b4f7",
   "metadata": {},
   "outputs": [
    {
     "data": {
      "text/html": [
       "<div>\n",
       "<style scoped>\n",
       "    .dataframe tbody tr th:only-of-type {\n",
       "        vertical-align: middle;\n",
       "    }\n",
       "\n",
       "    .dataframe tbody tr th {\n",
       "        vertical-align: top;\n",
       "    }\n",
       "\n",
       "    .dataframe thead th {\n",
       "        text-align: right;\n",
       "    }\n",
       "</style>\n",
       "<table border=\"1\" class=\"dataframe\">\n",
       "  <thead>\n",
       "    <tr style=\"text-align: right;\">\n",
       "      <th></th>\n",
       "      <th>car_ID</th>\n",
       "      <th>symboling</th>\n",
       "      <th>CarName</th>\n",
       "      <th>fueltype</th>\n",
       "      <th>aspiration</th>\n",
       "      <th>doornumber</th>\n",
       "      <th>carbody</th>\n",
       "      <th>drivewheel</th>\n",
       "      <th>enginelocation</th>\n",
       "      <th>wheelbase</th>\n",
       "      <th>...</th>\n",
       "      <th>cylindernumber</th>\n",
       "      <th>enginesize</th>\n",
       "      <th>fuelsystem</th>\n",
       "      <th>boreratio</th>\n",
       "      <th>stroke</th>\n",
       "      <th>compressionratio</th>\n",
       "      <th>horsepower</th>\n",
       "      <th>peakrpm</th>\n",
       "      <th>citympg</th>\n",
       "      <th>highwaympg</th>\n",
       "    </tr>\n",
       "  </thead>\n",
       "  <tbody>\n",
       "    <tr>\n",
       "      <th>0</th>\n",
       "      <td>1</td>\n",
       "      <td>3</td>\n",
       "      <td>alfa-romero giulia</td>\n",
       "      <td>1</td>\n",
       "      <td>1</td>\n",
       "      <td>2</td>\n",
       "      <td>5</td>\n",
       "      <td>2</td>\n",
       "      <td>front</td>\n",
       "      <td>88.6</td>\n",
       "      <td>...</td>\n",
       "      <td>4</td>\n",
       "      <td>130</td>\n",
       "      <td>mpfi</td>\n",
       "      <td>3.47</td>\n",
       "      <td>2.68</td>\n",
       "      <td>9.0</td>\n",
       "      <td>111</td>\n",
       "      <td>5000</td>\n",
       "      <td>21</td>\n",
       "      <td>27</td>\n",
       "    </tr>\n",
       "    <tr>\n",
       "      <th>1</th>\n",
       "      <td>2</td>\n",
       "      <td>3</td>\n",
       "      <td>alfa-romero stelvio</td>\n",
       "      <td>1</td>\n",
       "      <td>1</td>\n",
       "      <td>2</td>\n",
       "      <td>5</td>\n",
       "      <td>2</td>\n",
       "      <td>front</td>\n",
       "      <td>88.6</td>\n",
       "      <td>...</td>\n",
       "      <td>4</td>\n",
       "      <td>130</td>\n",
       "      <td>mpfi</td>\n",
       "      <td>3.47</td>\n",
       "      <td>2.68</td>\n",
       "      <td>9.0</td>\n",
       "      <td>111</td>\n",
       "      <td>5000</td>\n",
       "      <td>21</td>\n",
       "      <td>27</td>\n",
       "    </tr>\n",
       "    <tr>\n",
       "      <th>2</th>\n",
       "      <td>3</td>\n",
       "      <td>1</td>\n",
       "      <td>alfa-romero Quadrifoglio</td>\n",
       "      <td>1</td>\n",
       "      <td>1</td>\n",
       "      <td>2</td>\n",
       "      <td>2</td>\n",
       "      <td>2</td>\n",
       "      <td>front</td>\n",
       "      <td>94.5</td>\n",
       "      <td>...</td>\n",
       "      <td>6</td>\n",
       "      <td>152</td>\n",
       "      <td>mpfi</td>\n",
       "      <td>2.68</td>\n",
       "      <td>3.47</td>\n",
       "      <td>9.0</td>\n",
       "      <td>154</td>\n",
       "      <td>5000</td>\n",
       "      <td>19</td>\n",
       "      <td>26</td>\n",
       "    </tr>\n",
       "    <tr>\n",
       "      <th>3</th>\n",
       "      <td>4</td>\n",
       "      <td>2</td>\n",
       "      <td>audi 100 ls</td>\n",
       "      <td>1</td>\n",
       "      <td>1</td>\n",
       "      <td>4</td>\n",
       "      <td>1</td>\n",
       "      <td>1</td>\n",
       "      <td>front</td>\n",
       "      <td>99.8</td>\n",
       "      <td>...</td>\n",
       "      <td>4</td>\n",
       "      <td>109</td>\n",
       "      <td>mpfi</td>\n",
       "      <td>3.19</td>\n",
       "      <td>3.40</td>\n",
       "      <td>10.0</td>\n",
       "      <td>102</td>\n",
       "      <td>5500</td>\n",
       "      <td>24</td>\n",
       "      <td>30</td>\n",
       "    </tr>\n",
       "    <tr>\n",
       "      <th>4</th>\n",
       "      <td>5</td>\n",
       "      <td>2</td>\n",
       "      <td>audi 100ls</td>\n",
       "      <td>1</td>\n",
       "      <td>1</td>\n",
       "      <td>4</td>\n",
       "      <td>1</td>\n",
       "      <td>1</td>\n",
       "      <td>front</td>\n",
       "      <td>99.4</td>\n",
       "      <td>...</td>\n",
       "      <td>5</td>\n",
       "      <td>136</td>\n",
       "      <td>mpfi</td>\n",
       "      <td>3.19</td>\n",
       "      <td>3.40</td>\n",
       "      <td>8.0</td>\n",
       "      <td>115</td>\n",
       "      <td>5500</td>\n",
       "      <td>18</td>\n",
       "      <td>22</td>\n",
       "    </tr>\n",
       "    <tr>\n",
       "      <th>...</th>\n",
       "      <td>...</td>\n",
       "      <td>...</td>\n",
       "      <td>...</td>\n",
       "      <td>...</td>\n",
       "      <td>...</td>\n",
       "      <td>...</td>\n",
       "      <td>...</td>\n",
       "      <td>...</td>\n",
       "      <td>...</td>\n",
       "      <td>...</td>\n",
       "      <td>...</td>\n",
       "      <td>...</td>\n",
       "      <td>...</td>\n",
       "      <td>...</td>\n",
       "      <td>...</td>\n",
       "      <td>...</td>\n",
       "      <td>...</td>\n",
       "      <td>...</td>\n",
       "      <td>...</td>\n",
       "      <td>...</td>\n",
       "      <td>...</td>\n",
       "    </tr>\n",
       "    <tr>\n",
       "      <th>200</th>\n",
       "      <td>201</td>\n",
       "      <td>-1</td>\n",
       "      <td>volvo 145e (sw)</td>\n",
       "      <td>1</td>\n",
       "      <td>1</td>\n",
       "      <td>4</td>\n",
       "      <td>1</td>\n",
       "      <td>2</td>\n",
       "      <td>front</td>\n",
       "      <td>109.1</td>\n",
       "      <td>...</td>\n",
       "      <td>4</td>\n",
       "      <td>141</td>\n",
       "      <td>mpfi</td>\n",
       "      <td>3.78</td>\n",
       "      <td>3.15</td>\n",
       "      <td>9.5</td>\n",
       "      <td>114</td>\n",
       "      <td>5400</td>\n",
       "      <td>23</td>\n",
       "      <td>28</td>\n",
       "    </tr>\n",
       "    <tr>\n",
       "      <th>201</th>\n",
       "      <td>202</td>\n",
       "      <td>-1</td>\n",
       "      <td>volvo 144ea</td>\n",
       "      <td>1</td>\n",
       "      <td>2</td>\n",
       "      <td>4</td>\n",
       "      <td>1</td>\n",
       "      <td>2</td>\n",
       "      <td>front</td>\n",
       "      <td>109.1</td>\n",
       "      <td>...</td>\n",
       "      <td>4</td>\n",
       "      <td>141</td>\n",
       "      <td>mpfi</td>\n",
       "      <td>3.78</td>\n",
       "      <td>3.15</td>\n",
       "      <td>8.7</td>\n",
       "      <td>160</td>\n",
       "      <td>5300</td>\n",
       "      <td>19</td>\n",
       "      <td>25</td>\n",
       "    </tr>\n",
       "    <tr>\n",
       "      <th>202</th>\n",
       "      <td>203</td>\n",
       "      <td>-1</td>\n",
       "      <td>volvo 244dl</td>\n",
       "      <td>1</td>\n",
       "      <td>1</td>\n",
       "      <td>4</td>\n",
       "      <td>1</td>\n",
       "      <td>2</td>\n",
       "      <td>front</td>\n",
       "      <td>109.1</td>\n",
       "      <td>...</td>\n",
       "      <td>6</td>\n",
       "      <td>173</td>\n",
       "      <td>mpfi</td>\n",
       "      <td>3.58</td>\n",
       "      <td>2.87</td>\n",
       "      <td>8.8</td>\n",
       "      <td>134</td>\n",
       "      <td>5500</td>\n",
       "      <td>18</td>\n",
       "      <td>23</td>\n",
       "    </tr>\n",
       "    <tr>\n",
       "      <th>203</th>\n",
       "      <td>204</td>\n",
       "      <td>-1</td>\n",
       "      <td>volvo 246</td>\n",
       "      <td>2</td>\n",
       "      <td>2</td>\n",
       "      <td>4</td>\n",
       "      <td>1</td>\n",
       "      <td>2</td>\n",
       "      <td>front</td>\n",
       "      <td>109.1</td>\n",
       "      <td>...</td>\n",
       "      <td>6</td>\n",
       "      <td>145</td>\n",
       "      <td>idi</td>\n",
       "      <td>3.01</td>\n",
       "      <td>3.40</td>\n",
       "      <td>23.0</td>\n",
       "      <td>106</td>\n",
       "      <td>4800</td>\n",
       "      <td>26</td>\n",
       "      <td>27</td>\n",
       "    </tr>\n",
       "    <tr>\n",
       "      <th>204</th>\n",
       "      <td>205</td>\n",
       "      <td>-1</td>\n",
       "      <td>volvo 264gl</td>\n",
       "      <td>1</td>\n",
       "      <td>2</td>\n",
       "      <td>4</td>\n",
       "      <td>1</td>\n",
       "      <td>2</td>\n",
       "      <td>front</td>\n",
       "      <td>109.1</td>\n",
       "      <td>...</td>\n",
       "      <td>4</td>\n",
       "      <td>141</td>\n",
       "      <td>mpfi</td>\n",
       "      <td>3.78</td>\n",
       "      <td>3.15</td>\n",
       "      <td>9.5</td>\n",
       "      <td>114</td>\n",
       "      <td>5400</td>\n",
       "      <td>19</td>\n",
       "      <td>25</td>\n",
       "    </tr>\n",
       "  </tbody>\n",
       "</table>\n",
       "<p>205 rows × 25 columns</p>\n",
       "</div>"
      ],
      "text/plain": [
       "     car_ID  symboling                   CarName  fueltype  aspiration  \\\n",
       "0         1          3        alfa-romero giulia         1           1   \n",
       "1         2          3       alfa-romero stelvio         1           1   \n",
       "2         3          1  alfa-romero Quadrifoglio         1           1   \n",
       "3         4          2               audi 100 ls         1           1   \n",
       "4         5          2                audi 100ls         1           1   \n",
       "..      ...        ...                       ...       ...         ...   \n",
       "200     201         -1           volvo 145e (sw)         1           1   \n",
       "201     202         -1               volvo 144ea         1           2   \n",
       "202     203         -1               volvo 244dl         1           1   \n",
       "203     204         -1                 volvo 246         2           2   \n",
       "204     205         -1               volvo 264gl         1           2   \n",
       "\n",
       "     doornumber  carbody  drivewheel enginelocation  wheelbase  ...  \\\n",
       "0             2        5           2          front       88.6  ...   \n",
       "1             2        5           2          front       88.6  ...   \n",
       "2             2        2           2          front       94.5  ...   \n",
       "3             4        1           1          front       99.8  ...   \n",
       "4             4        1           1          front       99.4  ...   \n",
       "..          ...      ...         ...            ...        ...  ...   \n",
       "200           4        1           2          front      109.1  ...   \n",
       "201           4        1           2          front      109.1  ...   \n",
       "202           4        1           2          front      109.1  ...   \n",
       "203           4        1           2          front      109.1  ...   \n",
       "204           4        1           2          front      109.1  ...   \n",
       "\n",
       "     cylindernumber  enginesize  fuelsystem  boreratio stroke  \\\n",
       "0                 4         130        mpfi       3.47   2.68   \n",
       "1                 4         130        mpfi       3.47   2.68   \n",
       "2                 6         152        mpfi       2.68   3.47   \n",
       "3                 4         109        mpfi       3.19   3.40   \n",
       "4                 5         136        mpfi       3.19   3.40   \n",
       "..              ...         ...         ...        ...    ...   \n",
       "200               4         141        mpfi       3.78   3.15   \n",
       "201               4         141        mpfi       3.78   3.15   \n",
       "202               6         173        mpfi       3.58   2.87   \n",
       "203               6         145         idi       3.01   3.40   \n",
       "204               4         141        mpfi       3.78   3.15   \n",
       "\n",
       "     compressionratio  horsepower peakrpm  citympg  highwaympg  \n",
       "0                 9.0         111    5000       21          27  \n",
       "1                 9.0         111    5000       21          27  \n",
       "2                 9.0         154    5000       19          26  \n",
       "3                10.0         102    5500       24          30  \n",
       "4                 8.0         115    5500       18          22  \n",
       "..                ...         ...     ...      ...         ...  \n",
       "200               9.5         114    5400       23          28  \n",
       "201               8.7         160    5300       19          25  \n",
       "202               8.8         134    5500       18          23  \n",
       "203              23.0         106    4800       26          27  \n",
       "204               9.5         114    5400       19          25  \n",
       "\n",
       "[205 rows x 25 columns]"
      ]
     },
     "execution_count": 13,
     "metadata": {},
     "output_type": "execute_result"
    }
   ],
   "source": [
    "x['cylindernumber'] = x['cylindernumber'].replace({'two':2,'three':3,'four':4,'five':5,'six':6,'eight':8,'twelve':12})\n",
    "x['doornumber'] = x['doornumber'].replace({'two':2,'four':4})\n",
    "x['fueltype'] = x['fueltype'].replace({'gas':1,'diesel':2})\n",
    "x['aspiration'] = x['aspiration'].replace({'std':1,'turbo':2})\n",
    "x['carbody'] = x['carbody'].replace({'sedan':1,'hatchback':2, 'wagon':3,'hardtop':4,'convertible':5})\n",
    "x['drivewheel'] = x['drivewheel'].replace({'fwd':1,'rwd':2, '4wd':1})\n",
    "x"
   ]
  },
  {
   "cell_type": "code",
   "execution_count": 14,
   "id": "2ee07d19",
   "metadata": {},
   "outputs": [
    {
     "data": {
      "text/plain": [
       "front    202\n",
       "rear       3\n",
       "Name: enginelocation, dtype: int64"
      ]
     },
     "execution_count": 14,
     "metadata": {},
     "output_type": "execute_result"
    }
   ],
   "source": [
    "x['enginelocation'].value_counts()"
   ]
  },
  {
   "cell_type": "code",
   "execution_count": 15,
   "id": "8b0517e5",
   "metadata": {},
   "outputs": [
    {
     "data": {
      "text/plain": [
       "mpfi    94\n",
       "2bbl    66\n",
       "idi     20\n",
       "1bbl    11\n",
       "spdi     9\n",
       "4bbl     3\n",
       "mfi      1\n",
       "spfi     1\n",
       "Name: fuelsystem, dtype: int64"
      ]
     },
     "execution_count": 15,
     "metadata": {},
     "output_type": "execute_result"
    }
   ],
   "source": [
    "x['fuelsystem'].value_counts()"
   ]
  },
  {
   "cell_type": "code",
   "execution_count": 16,
   "id": "8bd4479a",
   "metadata": {},
   "outputs": [],
   "source": [
    "x['fuelsystem'] = x['fuelsystem'].replace({'mpfi':1,'2bbl':2,'idi':3, '1bbl':4, 'spdi':5, '4bbl':6, 'mfi':7, 'spfi':8})\n",
    "x['enginelocation'] = x['enginelocation'].replace({'front':1,'rear':2})"
   ]
  },
  {
   "cell_type": "code",
   "execution_count": 17,
   "id": "8175a854",
   "metadata": {},
   "outputs": [
    {
     "data": {
      "text/plain": [
       "ohc      148\n",
       "ohcf      15\n",
       "ohcv      13\n",
       "dohc      12\n",
       "l         12\n",
       "rotor      4\n",
       "dohcv      1\n",
       "Name: enginetype, dtype: int64"
      ]
     },
     "execution_count": 17,
     "metadata": {},
     "output_type": "execute_result"
    }
   ],
   "source": [
    "x['enginetype'].value_counts()"
   ]
  },
  {
   "cell_type": "code",
   "execution_count": 18,
   "id": "b2fbfe19",
   "metadata": {},
   "outputs": [],
   "source": [
    "x['enginetype'] = x['enginetype'].replace({'ohc':1,'ohcf':2,'ohcv':3, 'dohc':4, 'l':5, 'rotor':6, 'dohcv':7})"
   ]
  },
  {
   "cell_type": "code",
   "execution_count": 19,
   "id": "368325e4",
   "metadata": {},
   "outputs": [
    {
     "data": {
      "text/plain": [
       "0      alfa-romero\n",
       "1      alfa-romero\n",
       "2      alfa-romero\n",
       "3             audi\n",
       "4             audi\n",
       "          ...     \n",
       "200          volvo\n",
       "201          volvo\n",
       "202          volvo\n",
       "203          volvo\n",
       "204          volvo\n",
       "Name: CarName, Length: 205, dtype: object"
      ]
     },
     "execution_count": 19,
     "metadata": {},
     "output_type": "execute_result"
    }
   ],
   "source": [
    "x['CarName']=x['CarName'].apply(lambda x: x.split()[0])\n",
    "x['CarName']"
   ]
  },
  {
   "cell_type": "code",
   "execution_count": 20,
   "id": "1b39c0d7",
   "metadata": {},
   "outputs": [
    {
     "data": {
      "text/plain": [
       "toyota         31\n",
       "nissan         17\n",
       "mazda          15\n",
       "honda          13\n",
       "mitsubishi     13\n",
       "subaru         12\n",
       "peugeot        11\n",
       "volvo          11\n",
       "volkswagen      9\n",
       "dodge           9\n",
       "buick           8\n",
       "bmw             8\n",
       "audi            7\n",
       "plymouth        7\n",
       "saab            6\n",
       "isuzu           4\n",
       "porsche         4\n",
       "alfa-romero     3\n",
       "chevrolet       3\n",
       "jaguar          3\n",
       "vw              2\n",
       "maxda           2\n",
       "renault         2\n",
       "toyouta         1\n",
       "vokswagen       1\n",
       "Nissan          1\n",
       "mercury         1\n",
       "porcshce        1\n",
       "Name: CarName, dtype: int64"
      ]
     },
     "execution_count": 20,
     "metadata": {},
     "output_type": "execute_result"
    }
   ],
   "source": [
    "x['CarName'].value_counts()"
   ]
  },
  {
   "cell_type": "markdown",
   "id": "4b375e5d",
   "metadata": {},
   "source": [
    "#### As we can observe, there are lots of spelling errors in the CarName column\n",
    "#### Thus, correcting the same by mapping the incorrect names with the correct ones."
   ]
  },
  {
   "cell_type": "code",
   "execution_count": 21,
   "id": "c7fc85bb",
   "metadata": {},
   "outputs": [],
   "source": [
    "x['CarName'] = x['CarName'].replace({'maxda':'mazda', 'porcshce':'porsche', 'Nissan':'nissan', 'vokswagen': 'volkswagen', 'toyouta': 'toyota', 'vw':'volkswagen'})"
   ]
  },
  {
   "cell_type": "code",
   "execution_count": 22,
   "id": "dfdd609f",
   "metadata": {},
   "outputs": [],
   "source": [
    "x['CarName'] = x['CarName'].replace({'toyota':1,'nissan':2,'mazda':3, 'honda':4, 'mitsubishi':5, 'subaru':6, 'volvo':7, 'peugeot':8, 'volkswagen':9, 'dodge':10, 'bmw':11, 'buick':12, 'audi':13, 'plymouth':14, 'saab':15, 'porsche':16, 'isuzu':17, 'chevrolet':18, 'alfa-romero':19, 'jaguar':20, 'renault':21, 'mercury':22})"
   ]
  },
  {
   "cell_type": "markdown",
   "id": "0aa06cfc",
   "metadata": {},
   "source": [
    "### Now, our data cleaning and preprocessing  is done."
   ]
  },
  {
   "cell_type": "markdown",
   "id": "17806b24",
   "metadata": {},
   "source": [
    "#### A heatmap to understand the correlation between various features of the car."
   ]
  },
  {
   "cell_type": "code",
   "execution_count": 23,
   "id": "45fcedd6",
   "metadata": {},
   "outputs": [
    {
     "data": {
      "text/plain": [
       "<AxesSubplot:>"
      ]
     },
     "execution_count": 23,
     "metadata": {},
     "output_type": "execute_result"
    },
    {
     "data": {
      "image/png": "[encoded data removed]",
      "text/plain": [
       "<Figure size 720x576 with 2 Axes>"
      ]
     },
     "metadata": {
      "needs_background": "light"
     },
     "output_type": "display_data"
    }
   ],
   "source": [
    "f, ax = plt.subplots(figsize=(10, 8))\n",
    "corr = x.corr()\n",
    "sns.heatmap(corr,cmap=sns.diverging_palette(220, 10, as_cmap=True),vmin=-1.0, vmax=1.0,square=True, ax=ax)"
   ]
  },
  {
   "cell_type": "markdown",
   "id": "2dd79730",
   "metadata": {},
   "source": [
    "### Importing necessary modules for model training"
   ]
  },
  {
   "cell_type": "code",
   "execution_count": 24,
   "id": "e57613e0",
   "metadata": {},
   "outputs": [],
   "source": [
    "from sklearn.preprocessing import scale \n",
    "from sklearn.linear_model import LinearRegression \n",
    "from sklearn.metrics import mean_squared_error, r2_score \n",
    "from sklearn.model_selection import train_test_split "
   ]
  },
  {
   "cell_type": "code",
   "execution_count": 25,
   "id": "c1ab963f",
   "metadata": {},
   "outputs": [],
   "source": [
    "#scaling the data\n",
    "Xs = scale(x) "
   ]
  },
  {
   "cell_type": "code",
   "execution_count": 26,
   "id": "fbd8c9f1",
   "metadata": {},
   "outputs": [
    {
     "data": {
      "text/html": [
       "<div>\n",
       "<style scoped>\n",
       "    .dataframe tbody tr th:only-of-type {\n",
       "        vertical-align: middle;\n",
       "    }\n",
       "\n",
       "    .dataframe tbody tr th {\n",
       "        vertical-align: top;\n",
       "    }\n",
       "\n",
       "    .dataframe thead th {\n",
       "        text-align: right;\n",
       "    }\n",
       "</style>\n",
       "<table border=\"1\" class=\"dataframe\">\n",
       "  <thead>\n",
       "    <tr style=\"text-align: right;\">\n",
       "      <th></th>\n",
       "      <th>0</th>\n",
       "      <th>1</th>\n",
       "      <th>2</th>\n",
       "      <th>3</th>\n",
       "      <th>4</th>\n",
       "      <th>5</th>\n",
       "      <th>6</th>\n",
       "      <th>7</th>\n",
       "      <th>8</th>\n",
       "      <th>9</th>\n",
       "      <th>...</th>\n",
       "      <th>15</th>\n",
       "      <th>16</th>\n",
       "      <th>17</th>\n",
       "      <th>18</th>\n",
       "      <th>19</th>\n",
       "      <th>20</th>\n",
       "      <th>21</th>\n",
       "      <th>22</th>\n",
       "      <th>23</th>\n",
       "      <th>24</th>\n",
       "    </tr>\n",
       "  </thead>\n",
       "  <tbody>\n",
       "    <tr>\n",
       "      <th>0</th>\n",
       "      <td>-1.723622</td>\n",
       "      <td>1.743470</td>\n",
       "      <td>2.110461</td>\n",
       "      <td>-0.328798</td>\n",
       "      <td>-0.469295</td>\n",
       "      <td>-1.130388</td>\n",
       "      <td>3.217410</td>\n",
       "      <td>1.302831</td>\n",
       "      <td>-0.121867</td>\n",
       "      <td>-1.690772</td>\n",
       "      <td>...</td>\n",
       "      <td>-0.352887</td>\n",
       "      <td>0.074449</td>\n",
       "      <td>-0.760049</td>\n",
       "      <td>0.519071</td>\n",
       "      <td>-1.839377</td>\n",
       "      <td>-0.288349</td>\n",
       "      <td>0.174483</td>\n",
       "      <td>-0.262960</td>\n",
       "      <td>-0.646553</td>\n",
       "      <td>-0.546059</td>\n",
       "    </tr>\n",
       "    <tr>\n",
       "      <th>1</th>\n",
       "      <td>-1.706724</td>\n",
       "      <td>1.743470</td>\n",
       "      <td>2.110461</td>\n",
       "      <td>-0.328798</td>\n",
       "      <td>-0.469295</td>\n",
       "      <td>-1.130388</td>\n",
       "      <td>3.217410</td>\n",
       "      <td>1.302831</td>\n",
       "      <td>-0.121867</td>\n",
       "      <td>-1.690772</td>\n",
       "      <td>...</td>\n",
       "      <td>-0.352887</td>\n",
       "      <td>0.074449</td>\n",
       "      <td>-0.760049</td>\n",
       "      <td>0.519071</td>\n",
       "      <td>-1.839377</td>\n",
       "      <td>-0.288349</td>\n",
       "      <td>0.174483</td>\n",
       "      <td>-0.262960</td>\n",
       "      <td>-0.646553</td>\n",
       "      <td>-0.546059</td>\n",
       "    </tr>\n",
       "    <tr>\n",
       "      <th>2</th>\n",
       "      <td>-1.689826</td>\n",
       "      <td>0.133509</td>\n",
       "      <td>2.110461</td>\n",
       "      <td>-0.328798</td>\n",
       "      <td>-0.469295</td>\n",
       "      <td>-1.130388</td>\n",
       "      <td>0.182583</td>\n",
       "      <td>1.302831</td>\n",
       "      <td>-0.121867</td>\n",
       "      <td>-0.708596</td>\n",
       "      <td>...</td>\n",
       "      <td>1.502032</td>\n",
       "      <td>0.604046</td>\n",
       "      <td>-0.760049</td>\n",
       "      <td>-2.404880</td>\n",
       "      <td>0.685946</td>\n",
       "      <td>-0.288349</td>\n",
       "      <td>1.264536</td>\n",
       "      <td>-0.262960</td>\n",
       "      <td>-0.953012</td>\n",
       "      <td>-0.691627</td>\n",
       "    </tr>\n",
       "    <tr>\n",
       "      <th>3</th>\n",
       "      <td>-1.672928</td>\n",
       "      <td>0.938490</td>\n",
       "      <td>1.018843</td>\n",
       "      <td>-0.328798</td>\n",
       "      <td>-0.469295</td>\n",
       "      <td>0.884652</td>\n",
       "      <td>-0.829026</td>\n",
       "      <td>-0.767559</td>\n",
       "      <td>-0.121867</td>\n",
       "      <td>0.173698</td>\n",
       "      <td>...</td>\n",
       "      <td>-0.352887</td>\n",
       "      <td>-0.431076</td>\n",
       "      <td>-0.760049</td>\n",
       "      <td>-0.517266</td>\n",
       "      <td>0.462183</td>\n",
       "      <td>-0.035973</td>\n",
       "      <td>-0.053668</td>\n",
       "      <td>0.787855</td>\n",
       "      <td>-0.186865</td>\n",
       "      <td>-0.109354</td>\n",
       "    </tr>\n",
       "    <tr>\n",
       "      <th>4</th>\n",
       "      <td>-1.656029</td>\n",
       "      <td>0.938490</td>\n",
       "      <td>1.018843</td>\n",
       "      <td>-0.328798</td>\n",
       "      <td>-0.469295</td>\n",
       "      <td>0.884652</td>\n",
       "      <td>-0.829026</td>\n",
       "      <td>-0.767559</td>\n",
       "      <td>-0.121867</td>\n",
       "      <td>0.107110</td>\n",
       "      <td>...</td>\n",
       "      <td>0.574572</td>\n",
       "      <td>0.218885</td>\n",
       "      <td>-0.760049</td>\n",
       "      <td>-0.517266</td>\n",
       "      <td>0.462183</td>\n",
       "      <td>-0.540725</td>\n",
       "      <td>0.275883</td>\n",
       "      <td>0.787855</td>\n",
       "      <td>-1.106241</td>\n",
       "      <td>-1.273900</td>\n",
       "    </tr>\n",
       "  </tbody>\n",
       "</table>\n",
       "<p>5 rows × 25 columns</p>\n",
       "</div>"
      ],
      "text/plain": [
       "         0         1         2         3         4         5         6   \\\n",
       "0 -1.723622  1.743470  2.110461 -0.328798 -0.469295 -1.130388  3.217410   \n",
       "1 -1.706724  1.743470  2.110461 -0.328798 -0.469295 -1.130388  3.217410   \n",
       "2 -1.689826  0.133509  2.110461 -0.328798 -0.469295 -1.130388  0.182583   \n",
       "3 -1.672928  0.938490  1.018843 -0.328798 -0.469295  0.884652 -0.829026   \n",
       "4 -1.656029  0.938490  1.018843 -0.328798 -0.469295  0.884652 -0.829026   \n",
       "\n",
       "         7         8         9   ...        15        16        17        18  \\\n",
       "0  1.302831 -0.121867 -1.690772  ... -0.352887  0.074449 -0.760049  0.519071   \n",
       "1  1.302831 -0.121867 -1.690772  ... -0.352887  0.074449 -0.760049  0.519071   \n",
       "2  1.302831 -0.121867 -0.708596  ...  1.502032  0.604046 -0.760049 -2.404880   \n",
       "3 -0.767559 -0.121867  0.173698  ... -0.352887 -0.431076 -0.760049 -0.517266   \n",
       "4 -0.767559 -0.121867  0.107110  ...  0.574572  0.218885 -0.760049 -0.517266   \n",
       "\n",
       "         19        20        21        22        23        24  \n",
       "0 -1.839377 -0.288349  0.174483 -0.262960 -0.646553 -0.546059  \n",
       "1 -1.839377 -0.288349  0.174483 -0.262960 -0.646553 -0.546059  \n",
       "2  0.685946 -0.288349  1.264536 -0.262960 -0.953012 -0.691627  \n",
       "3  0.462183 -0.035973 -0.053668  0.787855 -0.186865 -0.109354  \n",
       "4  0.462183 -0.540725  0.275883  0.787855 -1.106241 -1.273900  \n",
       "\n",
       "[5 rows x 25 columns]"
      ]
     },
     "execution_count": 26,
     "metadata": {},
     "output_type": "execute_result"
    }
   ],
   "source": [
    "DATA=pd.DataFrame(Xs) \n",
    "DATA.head() "
   ]
  },
  {
   "cell_type": "markdown",
   "id": "b145aad3",
   "metadata": {},
   "source": [
    "#### Splitting the data into train and test data & applying the regression"
   ]
  },
  {
   "cell_type": "code",
   "execution_count": 27,
   "id": "6ef36ec2",
   "metadata": {},
   "outputs": [],
   "source": [
    "X_train, X_test, Y_train, Y_test = train_test_split(Xs, y, test_size=0.1, random_state=42) \n",
    "Coef=LinearRegression() \n",
    "Coef.fit(X_train, Y_train) \n",
    "Y_pred = Coef.predict(X_test) "
   ]
  },
  {
   "cell_type": "markdown",
   "id": "62dcf35f",
   "metadata": {},
   "source": [
    "##### printing the coefficients of the best fit line"
   ]
  },
  {
   "cell_type": "code",
   "execution_count": 28,
   "id": "910c5f4c",
   "metadata": {},
   "outputs": [
    {
     "name": "stdout",
     "output_type": "stream",
     "text": [
      "Coefficients: \n",
      " [-1.03042698e+03  2.91546086e+02  3.16622231e+02  4.24239395e+02\n",
      " -5.94690125e+01  1.95805013e+02 -8.51925833e+01  1.09529662e+03\n",
      "  1.33319732e+03  4.58975647e+02 -7.00025718e+02  2.02153612e+03\n",
      "  3.67314905e+02  1.08911336e+03 -8.96694832e+02 -9.95015933e+02\n",
      "  4.19813127e+03 -1.91611007e+02 -7.83004233e+02 -9.95836439e+02\n",
      "  3.58429565e+02  1.39479025e+03  5.41132497e+02 -3.26713385e+02\n",
      "  2.24896338e+00]\n"
     ]
    }
   ],
   "source": [
    "print('Coefficients: \\n', Coef.coef_) "
   ]
  },
  {
   "cell_type": "markdown",
   "id": "99b13f9f",
   "metadata": {},
   "source": [
    "##### printing the Mean Square Error"
   ]
  },
  {
   "cell_type": "code",
   "execution_count": 29,
   "id": "12a6d918",
   "metadata": {},
   "outputs": [
    {
     "name": "stdout",
     "output_type": "stream",
     "text": [
      "Mean squared error: 4695464.83\n"
     ]
    }
   ],
   "source": [
    "print(\"Mean squared error: %.2f\"% mean_squared_error(Y_test, Y_pred)) "
   ]
  },
  {
   "cell_type": "markdown",
   "id": "ba9b7b97",
   "metadata": {},
   "source": [
    "##### printing the Variance Score"
   ]
  },
  {
   "cell_type": "code",
   "execution_count": 30,
   "id": "514af566",
   "metadata": {},
   "outputs": [
    {
     "name": "stdout",
     "output_type": "stream",
     "text": [
      "Variance score: 0.94\n"
     ]
    }
   ],
   "source": [
    "print('Variance score: %.2f' % r2_score(Y_test, Y_pred)) "
   ]
  }
 ],
 "metadata": {
  "kernelspec": {
   "display_name": "Python 3 (ipykernel)",
   "language": "python",
   "name": "python3"
  },
  "language_info": {
   "codemirror_mode": {
    "name": "ipython",
    "version": 3
   },
   "file_extension": ".py",
   "mimetype": "text/x-python",
   "name": "python",
   "nbconvert_exporter": "python",
   "pygments_lexer": "ipython3",
   "version": "3.9.7"
  }
 },
 "nbformat": 4,
 "nbformat_minor": 5
}
