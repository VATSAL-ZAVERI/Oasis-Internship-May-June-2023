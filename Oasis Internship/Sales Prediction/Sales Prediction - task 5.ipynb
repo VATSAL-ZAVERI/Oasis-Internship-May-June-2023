{
 "cells": [
  {
   "cell_type": "markdown",
   "id": "15ed0d33",
   "metadata": {},
   "source": [
    "##  Oasis Internship task 5 by Vatsal Zaveri"
   ]
  },
  {
   "cell_type": "markdown",
   "id": "84631463",
   "metadata": {},
   "source": [
    "# Sales Prediction"
   ]
  },
  {
   "cell_type": "markdown",
   "id": "45f9800e",
   "metadata": {},
   "source": [
    "#### Importing the necessary modules"
   ]
  },
  {
   "cell_type": "code",
   "execution_count": 1,
   "id": "968bf031",
   "metadata": {
    "execution": {
     "iopub.execute_input": "2023-01-22T15:05:42.717952Z",
     "iopub.status.busy": "2023-01-22T15:05:42.717199Z",
     "iopub.status.idle": "2023-01-22T15:05:44.380306Z",
     "shell.execute_reply": "2023-01-22T15:05:44.379395Z"
    },
    "papermill": {
     "duration": 1.673998,
     "end_time": "2023-01-22T15:05:44.383033",
     "exception": false,
     "start_time": "2023-01-22T15:05:42.709035",
     "status": "completed"
    },
    "tags": []
   },
   "outputs": [],
   "source": [
    "import pandas as pd \n",
    "import numpy as np\n",
    "import seaborn as sns \n",
    "from scipy import stats\n",
    "import matplotlib.pyplot as plt\n",
    "from statsmodels.formula.api import ols\n",
    "from sklearn.model_selection import train_test_split\n",
    "from sklearn.linear_model import LinearRegression"
   ]
  },
  {
   "cell_type": "markdown",
   "id": "6f05891a",
   "metadata": {
    "papermill": {
     "duration": 0.005574,
     "end_time": "2023-01-22T15:05:44.406508",
     "exception": false,
     "start_time": "2023-01-22T15:05:44.400934",
     "status": "completed"
    },
    "tags": []
   },
   "source": [
    "### Reading the data"
   ]
  },
  {
   "cell_type": "code",
   "execution_count": 2,
   "id": "5ce15a58",
   "metadata": {
    "execution": {
     "iopub.execute_input": "2023-01-22T15:05:44.421107Z",
     "iopub.status.busy": "2023-01-22T15:05:44.419927Z",
     "iopub.status.idle": "2023-01-22T15:05:44.466446Z",
     "shell.execute_reply": "2023-01-22T15:05:44.465187Z"
    },
    "papermill": {
     "duration": 0.056519,
     "end_time": "2023-01-22T15:05:44.468981",
     "exception": false,
     "start_time": "2023-01-22T15:05:44.412462",
     "status": "completed"
    },
    "tags": []
   },
   "outputs": [
    {
     "data": {
      "text/html": [
       "<div>\n",
       "<style scoped>\n",
       "    .dataframe tbody tr th:only-of-type {\n",
       "        vertical-align: middle;\n",
       "    }\n",
       "\n",
       "    .dataframe tbody tr th {\n",
       "        vertical-align: top;\n",
       "    }\n",
       "\n",
       "    .dataframe thead th {\n",
       "        text-align: right;\n",
       "    }\n",
       "</style>\n",
       "<table border=\"1\" class=\"dataframe\">\n",
       "  <thead>\n",
       "    <tr style=\"text-align: right;\">\n",
       "      <th></th>\n",
       "      <th>TV</th>\n",
       "      <th>Radio</th>\n",
       "      <th>Newspaper</th>\n",
       "      <th>Sales</th>\n",
       "    </tr>\n",
       "  </thead>\n",
       "  <tbody>\n",
       "    <tr>\n",
       "      <th>144</th>\n",
       "      <td>104.6</td>\n",
       "      <td>5.7</td>\n",
       "      <td>34.4</td>\n",
       "      <td>10.4</td>\n",
       "    </tr>\n",
       "    <tr>\n",
       "      <th>191</th>\n",
       "      <td>39.5</td>\n",
       "      <td>41.1</td>\n",
       "      <td>5.8</td>\n",
       "      <td>10.8</td>\n",
       "    </tr>\n",
       "    <tr>\n",
       "      <th>98</th>\n",
       "      <td>184.9</td>\n",
       "      <td>21.0</td>\n",
       "      <td>22.0</td>\n",
       "      <td>15.5</td>\n",
       "    </tr>\n",
       "    <tr>\n",
       "      <th>104</th>\n",
       "      <td>187.9</td>\n",
       "      <td>17.2</td>\n",
       "      <td>17.9</td>\n",
       "      <td>14.7</td>\n",
       "    </tr>\n",
       "    <tr>\n",
       "      <th>172</th>\n",
       "      <td>164.5</td>\n",
       "      <td>20.9</td>\n",
       "      <td>47.4</td>\n",
       "      <td>14.5</td>\n",
       "    </tr>\n",
       "  </tbody>\n",
       "</table>\n",
       "</div>"
      ],
      "text/plain": [
       "        TV  Radio  Newspaper  Sales\n",
       "144  104.6    5.7       34.4   10.4\n",
       "191   39.5   41.1        5.8   10.8\n",
       "98   184.9   21.0       22.0   15.5\n",
       "104  187.9   17.2       17.9   14.7\n",
       "172  164.5   20.9       47.4   14.5"
      ]
     },
     "execution_count": 2,
     "metadata": {},
     "output_type": "execute_result"
    }
   ],
   "source": [
    "sales = pd.read_csv('Advertising.csv',index_col=0)\n",
    "sales.sample(5)"
   ]
  },
  {
   "cell_type": "markdown",
   "id": "2f68ba75",
   "metadata": {
    "papermill": {
     "duration": 0.005887,
     "end_time": "2023-01-22T15:05:44.481145",
     "exception": false,
     "start_time": "2023-01-22T15:05:44.475258",
     "status": "completed"
    },
    "tags": []
   },
   "source": [
    "## Exploratory Data Analysis "
   ]
  },
  {
   "cell_type": "code",
   "execution_count": 3,
   "id": "6f11cee2",
   "metadata": {
    "execution": {
     "iopub.execute_input": "2023-01-22T15:05:44.495784Z",
     "iopub.status.busy": "2023-01-22T15:05:44.495146Z",
     "iopub.status.idle": "2023-01-22T15:05:44.503038Z",
     "shell.execute_reply": "2023-01-22T15:05:44.501570Z"
    },
    "papermill": {
     "duration": 0.01808,
     "end_time": "2023-01-22T15:05:44.505546",
     "exception": false,
     "start_time": "2023-01-22T15:05:44.487466",
     "status": "completed"
    },
    "tags": []
   },
   "outputs": [
    {
     "data": {
      "text/plain": [
       "(200, 4)"
      ]
     },
     "execution_count": 3,
     "metadata": {},
     "output_type": "execute_result"
    }
   ],
   "source": [
    "sales.shape"
   ]
  },
  {
   "cell_type": "code",
   "execution_count": 4,
   "id": "aadb38d6",
   "metadata": {
    "execution": {
     "iopub.execute_input": "2023-01-22T15:05:44.522405Z",
     "iopub.status.busy": "2023-01-22T15:05:44.521990Z",
     "iopub.status.idle": "2023-01-22T15:05:44.555011Z",
     "shell.execute_reply": "2023-01-22T15:05:44.553970Z"
    },
    "papermill": {
     "duration": 0.045148,
     "end_time": "2023-01-22T15:05:44.557375",
     "exception": false,
     "start_time": "2023-01-22T15:05:44.512227",
     "status": "completed"
    },
    "tags": []
   },
   "outputs": [
    {
     "data": {
      "text/html": [
       "<div>\n",
       "<style scoped>\n",
       "    .dataframe tbody tr th:only-of-type {\n",
       "        vertical-align: middle;\n",
       "    }\n",
       "\n",
       "    .dataframe tbody tr th {\n",
       "        vertical-align: top;\n",
       "    }\n",
       "\n",
       "    .dataframe thead th {\n",
       "        text-align: right;\n",
       "    }\n",
       "</style>\n",
       "<table border=\"1\" class=\"dataframe\">\n",
       "  <thead>\n",
       "    <tr style=\"text-align: right;\">\n",
       "      <th></th>\n",
       "      <th>count</th>\n",
       "      <th>mean</th>\n",
       "      <th>std</th>\n",
       "      <th>min</th>\n",
       "      <th>25%</th>\n",
       "      <th>50%</th>\n",
       "      <th>75%</th>\n",
       "      <th>max</th>\n",
       "    </tr>\n",
       "  </thead>\n",
       "  <tbody>\n",
       "    <tr>\n",
       "      <th>TV</th>\n",
       "      <td>200.0</td>\n",
       "      <td>147.0425</td>\n",
       "      <td>85.854236</td>\n",
       "      <td>0.7</td>\n",
       "      <td>74.375</td>\n",
       "      <td>149.75</td>\n",
       "      <td>218.825</td>\n",
       "      <td>296.4</td>\n",
       "    </tr>\n",
       "    <tr>\n",
       "      <th>Radio</th>\n",
       "      <td>200.0</td>\n",
       "      <td>23.2640</td>\n",
       "      <td>14.846809</td>\n",
       "      <td>0.0</td>\n",
       "      <td>9.975</td>\n",
       "      <td>22.90</td>\n",
       "      <td>36.525</td>\n",
       "      <td>49.6</td>\n",
       "    </tr>\n",
       "    <tr>\n",
       "      <th>Newspaper</th>\n",
       "      <td>200.0</td>\n",
       "      <td>30.5540</td>\n",
       "      <td>21.778621</td>\n",
       "      <td>0.3</td>\n",
       "      <td>12.750</td>\n",
       "      <td>25.75</td>\n",
       "      <td>45.100</td>\n",
       "      <td>114.0</td>\n",
       "    </tr>\n",
       "    <tr>\n",
       "      <th>Sales</th>\n",
       "      <td>200.0</td>\n",
       "      <td>14.0225</td>\n",
       "      <td>5.217457</td>\n",
       "      <td>1.6</td>\n",
       "      <td>10.375</td>\n",
       "      <td>12.90</td>\n",
       "      <td>17.400</td>\n",
       "      <td>27.0</td>\n",
       "    </tr>\n",
       "  </tbody>\n",
       "</table>\n",
       "</div>"
      ],
      "text/plain": [
       "           count      mean        std  min     25%     50%      75%    max\n",
       "TV         200.0  147.0425  85.854236  0.7  74.375  149.75  218.825  296.4\n",
       "Radio      200.0   23.2640  14.846809  0.0   9.975   22.90   36.525   49.6\n",
       "Newspaper  200.0   30.5540  21.778621  0.3  12.750   25.75   45.100  114.0\n",
       "Sales      200.0   14.0225   5.217457  1.6  10.375   12.90   17.400   27.0"
      ]
     },
     "execution_count": 4,
     "metadata": {},
     "output_type": "execute_result"
    }
   ],
   "source": [
    "sales.describe().T"
   ]
  },
  {
   "cell_type": "markdown",
   "id": "38fc4055",
   "metadata": {},
   "source": [
    "### Performing univariate graphical analysis on various features"
   ]
  },
  {
   "cell_type": "code",
   "execution_count": 5,
   "id": "793c0f78",
   "metadata": {
    "execution": {
     "iopub.execute_input": "2023-01-22T15:05:44.597199Z",
     "iopub.status.busy": "2023-01-22T15:05:44.596540Z",
     "iopub.status.idle": "2023-01-22T15:05:45.558696Z",
     "shell.execute_reply": "2023-01-22T15:05:45.557276Z"
    },
    "papermill": {
     "duration": 0.972997,
     "end_time": "2023-01-22T15:05:45.561591",
     "exception": false,
     "start_time": "2023-01-22T15:05:44.588594",
     "status": "completed"
    },
    "tags": []
   },
   "outputs": [
    {
     "data": {
      "text/plain": [
       "<seaborn.axisgrid.FacetGrid at 0x1b7468f45e0>"
      ]
     },
     "execution_count": 5,
     "metadata": {},
     "output_type": "execute_result"
    },
    {
     "data": {
      "image/png": "[encoded data removed]",
      "text/plain": [
       "<Figure size 360x360 with 1 Axes>"
      ]
     },
     "metadata": {
      "needs_background": "light"
     },
     "output_type": "display_data"
    },
    {
     "data": {
      "image/png": "[encoded data removed]",
      "text/plain": [
       "<Figure size 360x360 with 1 Axes>"
      ]
     },
     "metadata": {
      "needs_background": "light"
     },
     "output_type": "display_data"
    },
    {
     "data": {
      "image/png": "[encoded data removed]",
      "text/plain": [
       "<Figure size 360x360 with 1 Axes>"
      ]
     },
     "metadata": {
      "needs_background": "light"
     },
     "output_type": "display_data"
    }
   ],
   "source": [
    "sns.displot(sales.TV,bins=10,color='brown',kde=True)\n",
    "sns.displot(sales.Radio,bins=10,color='brown',kde=True)\n",
    "sns.displot(sales.Newspaper,bins=10,color='brown',kde=True)"
   ]
  },
  {
   "cell_type": "markdown",
   "id": "2db12ab8",
   "metadata": {},
   "source": [
    "#### A heatmap to understand the correlation between various features of the car."
   ]
  },
  {
   "cell_type": "code",
   "execution_count": 6,
   "id": "2f4e6806",
   "metadata": {},
   "outputs": [
    {
     "data": {
      "text/plain": [
       "<AxesSubplot:>"
      ]
     },
     "execution_count": 6,
     "metadata": {},
     "output_type": "execute_result"
    },
    {
     "data": {
      "image/png": "[encoded data removed]",
      "text/plain": [
       "<Figure size 432x288 with 2 Axes>"
      ]
     },
     "metadata": {
      "needs_background": "light"
     },
     "output_type": "display_data"
    }
   ],
   "source": [
    "sns.heatmap(sales.corr(),annot=True,cmap=\"BuPu\")"
   ]
  },
  {
   "cell_type": "markdown",
   "id": "0907668d",
   "metadata": {
    "papermill": {
     "duration": 0.007791,
     "end_time": "2023-01-22T15:05:46.277195",
     "exception": false,
     "start_time": "2023-01-22T15:05:46.269404",
     "status": "completed"
    },
    "tags": []
   },
   "source": [
    "As we can see the 3 variables not correlated with each other"
   ]
  },
  {
   "cell_type": "code",
   "execution_count": 7,
   "id": "50027e26",
   "metadata": {
    "execution": {
     "iopub.execute_input": "2023-01-22T15:05:46.295702Z",
     "iopub.status.busy": "2023-01-22T15:05:46.294658Z",
     "iopub.status.idle": "2023-01-22T15:05:46.315556Z",
     "shell.execute_reply": "2023-01-22T15:05:46.314370Z"
    },
    "papermill": {
     "duration": 0.032902,
     "end_time": "2023-01-22T15:05:46.318123",
     "exception": false,
     "start_time": "2023-01-22T15:05:46.285221",
     "status": "completed"
    },
    "tags": []
   },
   "outputs": [
    {
     "data": {
      "text/html": [
       "<div>\n",
       "<style scoped>\n",
       "    .dataframe tbody tr th:only-of-type {\n",
       "        vertical-align: middle;\n",
       "    }\n",
       "\n",
       "    .dataframe tbody tr th {\n",
       "        vertical-align: top;\n",
       "    }\n",
       "\n",
       "    .dataframe thead th {\n",
       "        text-align: right;\n",
       "    }\n",
       "</style>\n",
       "<table border=\"1\" class=\"dataframe\">\n",
       "  <thead>\n",
       "    <tr style=\"text-align: right;\">\n",
       "      <th></th>\n",
       "      <th>VIF</th>\n",
       "      <th>feature</th>\n",
       "    </tr>\n",
       "  </thead>\n",
       "  <tbody>\n",
       "    <tr>\n",
       "      <th>0</th>\n",
       "      <td>2.486772</td>\n",
       "      <td>TV</td>\n",
       "    </tr>\n",
       "    <tr>\n",
       "      <th>1</th>\n",
       "      <td>3.285462</td>\n",
       "      <td>Radio</td>\n",
       "    </tr>\n",
       "    <tr>\n",
       "      <th>2</th>\n",
       "      <td>3.055245</td>\n",
       "      <td>Newspaper</td>\n",
       "    </tr>\n",
       "  </tbody>\n",
       "</table>\n",
       "</div>"
      ],
      "text/plain": [
       "        VIF    feature\n",
       "0  2.486772         TV\n",
       "1  3.285462      Radio\n",
       "2  3.055245  Newspaper"
      ]
     },
     "execution_count": 7,
     "metadata": {},
     "output_type": "execute_result"
    }
   ],
   "source": [
    "from statsmodels.stats.outliers_influence import variance_inflation_factor\n",
    "r = sales[[\"TV\", \"Radio\",\"Newspaper\"]].values\n",
    "vif_df = pd.DataFrame()\n",
    "vif_df[\"VIF\"] = [variance_inflation_factor(r, i) for i in range(3)]\n",
    "vif_df[\"feature\"] = [\"TV\", \"Radio\",\"Newspaper\"]\n",
    "vif_df"
   ]
  },
  {
   "cell_type": "markdown",
   "id": "ac78bd49",
   "metadata": {
    "papermill": {
     "duration": 0.008251,
     "end_time": "2023-01-22T15:05:46.334699",
     "exception": false,
     "start_time": "2023-01-22T15:05:46.326448",
     "status": "completed"
    },
    "tags": []
   },
   "source": [
    "### Modelling <br>\n",
    "1- First model with drop the newspaper feature"
   ]
  },
  {
   "cell_type": "code",
   "execution_count": 8,
   "id": "39fac85a",
   "metadata": {
    "execution": {
     "iopub.execute_input": "2023-01-22T15:05:46.369429Z",
     "iopub.status.busy": "2023-01-22T15:05:46.369000Z",
     "iopub.status.idle": "2023-01-22T15:05:46.378450Z",
     "shell.execute_reply": "2023-01-22T15:05:46.377297Z"
    },
    "papermill": {
     "duration": 0.021054,
     "end_time": "2023-01-22T15:05:46.380703",
     "exception": false,
     "start_time": "2023-01-22T15:05:46.359649",
     "status": "completed"
    },
    "tags": []
   },
   "outputs": [],
   "source": [
    "X = sales.drop(['Sales','Newspaper'], axis=1)\n",
    "y = sales[[\"Sales\"]]\n",
    "\n",
    "X_train, X_test, y_train, y_test = train_test_split(X, y, test_size=0.20, random_state=46)\n",
    "\n",
    "\n",
    "models = [('LinearRegression', LinearRegression())]"
   ]
  },
  {
   "cell_type": "code",
   "execution_count": 9,
   "id": "dceed0e2",
   "metadata": {
    "execution": {
     "iopub.execute_input": "2023-01-22T15:05:46.399716Z",
     "iopub.status.busy": "2023-01-22T15:05:46.398722Z",
     "iopub.status.idle": "2023-01-22T15:05:46.424409Z",
     "shell.execute_reply": "2023-01-22T15:05:46.422692Z"
    },
    "papermill": {
     "duration": 0.038226,
     "end_time": "2023-01-22T15:05:46.427212",
     "exception": false,
     "start_time": "2023-01-22T15:05:46.388986",
     "status": "completed"
    },
    "tags": []
   },
   "outputs": [
    {
     "name": "stdout",
     "output_type": "stream",
     "text": [
      "Intercept    2.921100\n",
      "TV           0.045755\n",
      "Radio        0.187994\n",
      "dtype: float64 \n",
      "\n",
      "                            OLS Regression Results                            \n",
      "==============================================================================\n",
      "Dep. Variable:                  Sales   R-squared:                       0.897\n",
      "Model:                            OLS   Adj. R-squared:                  0.896\n",
      "Method:                 Least Squares   F-statistic:                     859.6\n",
      "Date:                Wed, 14 Jun 2023   Prob (F-statistic):           4.83e-98\n",
      "Time:                        13:42:04   Log-Likelihood:                -386.20\n",
      "No. Observations:                 200   AIC:                             778.4\n",
      "Df Residuals:                     197   BIC:                             788.3\n",
      "Df Model:                           2                                         \n",
      "Covariance Type:            nonrobust                                         \n",
      "==============================================================================\n",
      "                 coef    std err          t      P>|t|      [0.025      0.975]\n",
      "------------------------------------------------------------------------------\n",
      "Intercept      2.9211      0.294      9.919      0.000       2.340       3.502\n",
      "TV             0.0458      0.001     32.909      0.000       0.043       0.048\n",
      "Radio          0.1880      0.008     23.382      0.000       0.172       0.204\n",
      "==============================================================================\n",
      "Omnibus:                       60.022   Durbin-Watson:                   2.081\n",
      "Prob(Omnibus):                  0.000   Jarque-Bera (JB):              148.679\n",
      "Skew:                          -1.323   Prob(JB):                     5.19e-33\n",
      "Kurtosis:                       6.292   Cond. No.                         425.\n",
      "==============================================================================\n",
      "\n",
      "Notes:\n",
      "[1] Standard Errors assume that the covariance matrix of the errors is correctly specified.\n"
     ]
    }
   ],
   "source": [
    "lin_model = ols(formula=\"Sales ~ TV + Radio \",data=sales).fit()\n",
    "\n",
    "print(lin_model.params,\"\\n\")\n",
    "print(lin_model.summary())"
   ]
  },
  {
   "cell_type": "markdown",
   "id": "2f544d60",
   "metadata": {
    "papermill": {
     "duration": 0.008223,
     "end_time": "2023-01-22T15:05:46.444395",
     "exception": false,
     "start_time": "2023-01-22T15:05:46.436172",
     "status": "completed"
    },
    "tags": []
   },
   "source": [
    "2- try the model with Newspaper feature added "
   ]
  },
  {
   "cell_type": "code",
   "execution_count": 10,
   "id": "99e4a7c7",
   "metadata": {
    "execution": {
     "iopub.execute_input": "2023-01-22T15:05:46.463226Z",
     "iopub.status.busy": "2023-01-22T15:05:46.462777Z",
     "iopub.status.idle": "2023-01-22T15:05:46.472302Z",
     "shell.execute_reply": "2023-01-22T15:05:46.471177Z"
    },
    "papermill": {
     "duration": 0.02169,
     "end_time": "2023-01-22T15:05:46.474528",
     "exception": false,
     "start_time": "2023-01-22T15:05:46.452838",
     "status": "completed"
    },
    "tags": []
   },
   "outputs": [],
   "source": [
    "X = sales.drop(['Sales'], axis=1)\n",
    "y = sales[[\"Sales\"]]\n",
    "\n",
    "X_train, X_test, y_train, y_test = train_test_split(X, y, test_size=0.20, random_state=46)\n",
    "\n",
    "\n",
    "models = [('LinearRegression', LinearRegression())]"
   ]
  },
  {
   "cell_type": "code",
   "execution_count": 11,
   "id": "90476653",
   "metadata": {
    "execution": {
     "iopub.execute_input": "2023-01-22T15:05:46.493698Z",
     "iopub.status.busy": "2023-01-22T15:05:46.492778Z",
     "iopub.status.idle": "2023-01-22T15:05:46.520098Z",
     "shell.execute_reply": "2023-01-22T15:05:46.518361Z"
    },
    "papermill": {
     "duration": 0.039782,
     "end_time": "2023-01-22T15:05:46.522876",
     "exception": false,
     "start_time": "2023-01-22T15:05:46.483094",
     "status": "completed"
    },
    "tags": []
   },
   "outputs": [
    {
     "name": "stdout",
     "output_type": "stream",
     "text": [
      "Intercept    2.938889\n",
      "TV           0.045765\n",
      "Radio        0.188530\n",
      "Newspaper   -0.001037\n",
      "dtype: float64 \n",
      "\n",
      "                            OLS Regression Results                            \n",
      "==============================================================================\n",
      "Dep. Variable:                  Sales   R-squared:                       0.897\n",
      "Model:                            OLS   Adj. R-squared:                  0.896\n",
      "Method:                 Least Squares   F-statistic:                     570.3\n",
      "Date:                Wed, 14 Jun 2023   Prob (F-statistic):           1.58e-96\n",
      "Time:                        13:42:04   Log-Likelihood:                -386.18\n",
      "No. Observations:                 200   AIC:                             780.4\n",
      "Df Residuals:                     196   BIC:                             793.6\n",
      "Df Model:                           3                                         \n",
      "Covariance Type:            nonrobust                                         \n",
      "==============================================================================\n",
      "                 coef    std err          t      P>|t|      [0.025      0.975]\n",
      "------------------------------------------------------------------------------\n",
      "Intercept      2.9389      0.312      9.422      0.000       2.324       3.554\n",
      "TV             0.0458      0.001     32.809      0.000       0.043       0.049\n",
      "Radio          0.1885      0.009     21.893      0.000       0.172       0.206\n",
      "Newspaper     -0.0010      0.006     -0.177      0.860      -0.013       0.011\n",
      "==============================================================================\n",
      "Omnibus:                       60.414   Durbin-Watson:                   2.084\n",
      "Prob(Omnibus):                  0.000   Jarque-Bera (JB):              151.241\n",
      "Skew:                          -1.327   Prob(JB):                     1.44e-33\n",
      "Kurtosis:                       6.332   Cond. No.                         454.\n",
      "==============================================================================\n",
      "\n",
      "Notes:\n",
      "[1] Standard Errors assume that the covariance matrix of the errors is correctly specified.\n"
     ]
    }
   ],
   "source": [
    "lin_model = ols(formula=\"Sales ~ TV + Radio + Newspaper \",data=sales).fit()\n",
    "\n",
    "print(lin_model.params,\"\\n\")\n",
    "print(lin_model.summary())"
   ]
  }
 ],
 "metadata": {
  "kernelspec": {
   "display_name": "Python 3 (ipykernel)",
   "language": "python",
   "name": "python3"
  },
  "language_info": {
   "codemirror_mode": {
    "name": "ipython",
    "version": 3
   },
   "file_extension": ".py",
   "mimetype": "text/x-python",
   "name": "python",
   "nbconvert_exporter": "python",
   "pygments_lexer": "ipython3",
   "version": "3.9.7"
  },
  "papermill": {
   "default_parameters": {},
   "duration": 13.948948,
   "end_time": "2023-01-22T15:05:47.371458",
   "environment_variables": {},
   "exception": null,
   "input_path": "__notebook__.ipynb",
   "output_path": "__notebook__.ipynb",
   "parameters": {},
   "start_time": "2023-01-22T15:05:33.422510",
   "version": "2.3.4"
  }
 },
 "nbformat": 4,
 "nbformat_minor": 5
}
